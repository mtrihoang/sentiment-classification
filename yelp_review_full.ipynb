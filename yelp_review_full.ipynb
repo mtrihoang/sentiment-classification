{
 "cells": [
  {
   "attachments": {},
   "cell_type": "markdown",
   "id": "bf284ff5",
   "metadata": {},
   "source": [
    "#### Applications of pretrained models in the <span style=\"color:blue\"> Hugging Face Transformers</span> library for sentiment classification. "
   ]
  },
  {
   "cell_type": "code",
   "execution_count": null,
   "id": "ce502e75",
   "metadata": {},
   "outputs": [],
   "source": [
    "from datasets import load_dataset\n",
    "from transformers import pipeline, BertForSequenceClassification, BertTokenizer\n",
    "import torch\n",
    "import pandas as pd"
   ]
  },
  {
   "attachments": {},
   "cell_type": "markdown",
   "id": "6710f36e",
   "metadata": {},
   "source": [
    "**Loading the [yelp_review_full](https://huggingface.co/datasets/yelp_review_full) dataset**"
   ]
  },
  {
   "cell_type": "code",
   "execution_count": null,
   "id": "bb9047f0",
   "metadata": {},
   "outputs": [],
   "source": [
    "yelp_df = load_dataset(\"yelp_review_full\")"
   ]
  },
  {
   "attachments": {},
   "cell_type": "markdown",
   "id": "e3379ded",
   "metadata": {},
   "source": [
    "**Selecting and inspecting data**"
   ]
  },
  {
   "cell_type": "code",
   "execution_count": null,
   "id": "0bb5aa03",
   "metadata": {},
   "outputs": [],
   "source": [
    "print(yelp_df)"
   ]
  },
  {
   "cell_type": "code",
   "execution_count": null,
   "id": "5cf5d4a1",
   "metadata": {},
   "outputs": [],
   "source": [
    "print(type(yelp_df))"
   ]
  },
  {
   "cell_type": "code",
   "execution_count": null,
   "id": "5bf33858",
   "metadata": {},
   "outputs": [],
   "source": [
    "print(yelp_df[\"train\"])"
   ]
  },
  {
   "cell_type": "code",
   "execution_count": null,
   "id": "6472e5c9",
   "metadata": {},
   "outputs": [],
   "source": [
    "print(type(yelp_df[\"train\"]))"
   ]
  },
  {
   "cell_type": "code",
   "execution_count": null,
   "id": "da3323e7",
   "metadata": {},
   "outputs": [],
   "source": [
    "print(yelp_df[\"train\"][0])"
   ]
  },
  {
   "cell_type": "code",
   "execution_count": null,
   "id": "a244c245",
   "metadata": {},
   "outputs": [],
   "source": [
    "print(yelp_df.num_columns, yelp_df.num_rows)"
   ]
  },
  {
   "cell_type": "code",
   "execution_count": null,
   "id": "3d9cd574",
   "metadata": {},
   "outputs": [],
   "source": [
    "print(yelp_df.shape)"
   ]
  },
  {
   "cell_type": "code",
   "execution_count": null,
   "id": "041e9172",
   "metadata": {},
   "outputs": [],
   "source": [
    "print(yelp_df.unique(\"label\"))"
   ]
  },
  {
   "attachments": {},
   "cell_type": "markdown",
   "id": "1adbaf86",
   "metadata": {},
   "source": [
    "**Transforming to other formats**"
   ]
  },
  {
   "cell_type": "code",
   "execution_count": null,
   "id": "9c2fc9d6",
   "metadata": {},
   "outputs": [],
   "source": [
    "yelp_df.set_format(type=\"pandas\")"
   ]
  },
  {
   "cell_type": "code",
   "execution_count": null,
   "id": "6ba6533f",
   "metadata": {},
   "outputs": [],
   "source": [
    "print(yelp_df[\"train\"])"
   ]
  },
  {
   "cell_type": "code",
   "execution_count": null,
   "id": "b9e1a4d5",
   "metadata": {},
   "outputs": [],
   "source": [
    "print(type(yelp_df[\"test\"][:]))"
   ]
  },
  {
   "cell_type": "code",
   "execution_count": null,
   "id": "37161a8d",
   "metadata": {},
   "outputs": [],
   "source": [
    "classifier = pipeline(task=\"text-classification\", max_length=512)\n",
    "sentiments = classifier(yelp_df[\"test\"][\"text\"][0])"
   ]
  },
  {
   "cell_type": "code",
   "execution_count": null,
   "id": "f2b30fc7",
   "metadata": {},
   "outputs": [],
   "source": [
    "pd.DataFrame(sentiments)"
   ]
  },
  {
   "cell_type": "code",
   "execution_count": null,
   "id": "e31b4d38",
   "metadata": {},
   "outputs": [],
   "source": [
    "train_df = yelp_df[\"test\"][:10]\n",
    "train_df"
   ]
  },
  {
   "cell_type": "code",
   "execution_count": null,
   "id": "d9d38980",
   "metadata": {},
   "outputs": [],
   "source": [
    "print(train_df[\"text\"])"
   ]
  },
  {
   "cell_type": "code",
   "execution_count": null,
   "id": "00f805d0",
   "metadata": {},
   "outputs": [],
   "source": [
    "def sentiment_classification(text):\n",
    "    outputs = classifier(text)\n",
    "    label = outputs[0][\"label\"]\n",
    "    return label\n",
    "\n",
    "\n",
    "train_df[\"sentiment\"] = train_df[\"text\"].map(sentiment_classification)"
   ]
  },
  {
   "cell_type": "code",
   "execution_count": null,
   "id": "e4caca5f",
   "metadata": {},
   "outputs": [],
   "source": [
    "train_df"
   ]
  },
  {
   "attachments": {},
   "cell_type": "markdown",
   "id": "78ebcb15",
   "metadata": {},
   "source": [
    "**Tokenization**"
   ]
  },
  {
   "cell_type": "code",
   "execution_count": null,
   "id": "17e06877",
   "metadata": {},
   "outputs": [],
   "source": [
    "model_name = \"bert-base-uncased\"\n",
    "tokenizer = BertTokenizer.from_pretrained(model_name)"
   ]
  },
  {
   "cell_type": "code",
   "execution_count": null,
   "id": "0930b090",
   "metadata": {},
   "outputs": [],
   "source": [
    "print(train_df[\"text\"][5])\n",
    "print(tokenizer.encode(train_df[\"text\"][5]))\n",
    "example_tokens = tokenizer.encode(\n",
    "    train_df[\"text\"][5], truncation=True, padding=True, add_special_tokens=True\n",
    ")\n",
    "print(tokenizer.decode(example_tokens))"
   ]
  },
  {
   "cell_type": "code",
   "execution_count": null,
   "id": "eabf1891",
   "metadata": {},
   "outputs": [],
   "source": [
    "input_ids = torch.tensor(example_tokens).unsqueeze(0)\n",
    "print(input_ids)"
   ]
  },
  {
   "cell_type": "code",
   "execution_count": null,
   "id": "6be2d328",
   "metadata": {},
   "outputs": [],
   "source": [
    "model = BertForSequenceClassification.from_pretrained(model_name, num_labels=5)\n",
    "tokenizer = BertTokenizer.from_pretrained(model_name)"
   ]
  },
  {
   "cell_type": "code",
   "execution_count": null,
   "id": "f827c2f0",
   "metadata": {},
   "outputs": [],
   "source": [
    "train_tokens = [\n",
    "    tokenizer.encode(text, add_special_tokens=True, max_length=512, truncation=True)\n",
    "    for text in train_df[\"text\"]\n",
    "]\n",
    "ids = [torch.tensor(tokens).unsqueeze(0) for tokens in train_tokens]\n",
    "print(ids)"
   ]
  },
  {
   "cell_type": "code",
   "execution_count": null,
   "id": "bfc4bb29",
   "metadata": {},
   "outputs": [],
   "source": [
    "outputs = [model(input_ids=id) for id in ids]\n",
    "predicted_labels = [torch.argmax(output.logits, dim=1) for output in outputs]\n",
    "token_labels = [predicted_label[0].tolist() for predicted_label in predicted_labels]\n",
    "train_df[\"new_label\"] = pd.Series(token_labels)\n",
    "train_df"
   ]
  }
 ],
 "metadata": {
  "language_info": {
   "codemirror_mode": {
    "name": "ipython",
    "version": 3
   },
   "file_extension": ".py",
   "mimetype": "text/x-python",
   "name": "python",
   "nbconvert_exporter": "python",
   "pygments_lexer": "ipython3"
  }
 },
 "nbformat": 4,
 "nbformat_minor": 5
}
