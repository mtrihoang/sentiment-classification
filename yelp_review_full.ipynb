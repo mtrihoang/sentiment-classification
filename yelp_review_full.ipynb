{
 "cells": [
  {
   "attachments": {},
   "cell_type": "markdown",
   "id": "bf284ff5",
   "metadata": {},
   "source": [
    "#### Applications of pretrained models in the <span style=\"color:blue\"> Hugging Face Transformers</span> library for sentiment classification. "
   ]
  },
  {
   "cell_type": "code",
   "execution_count": 1,
   "id": "ce502e75",
   "metadata": {},
   "outputs": [],
   "source": [
    "from datasets import load_dataset\n",
    "from transformers import pipeline, BertForSequenceClassification, BertTokenizer\n",
    "import torch\n",
    "import pandas as pd"
   ]
  },
  {
   "attachments": {},
   "cell_type": "markdown",
   "id": "6710f36e",
   "metadata": {},
   "source": [
    "**Loading the [yelp_review_full](https://huggingface.co/datasets/yelp_review_full) dataset**"
   ]
  },
  {
   "cell_type": "code",
   "execution_count": 2,
   "id": "bb9047f0",
   "metadata": {},
   "outputs": [
    {
     "name": "stderr",
     "output_type": "stream",
     "text": [
      "Found cached dataset yelp_review_full (C:/Users/Dell/.cache/huggingface/datasets/yelp_review_full/yelp_review_full/1.0.0/e8e18e19d7be9e75642fc66b198abadb116f73599ec89a69ba5dd8d1e57ba0bf)\n"
     ]
    },
    {
     "data": {
      "application/vnd.jupyter.widget-view+json": {
       "model_id": "73fe30c103eb4414b3191545e8d6be4a",
       "version_major": 2,
       "version_minor": 0
      },
      "text/plain": [
       "  0%|          | 0/2 [00:00<?, ?it/s]"
      ]
     },
     "metadata": {},
     "output_type": "display_data"
    }
   ],
   "source": [
    "yelp_df = load_dataset(\"yelp_review_full\")"
   ]
  },
  {
   "attachments": {},
   "cell_type": "markdown",
   "id": "e3379ded",
   "metadata": {},
   "source": [
    "**Selecting and inspecting data**"
   ]
  },
  {
   "cell_type": "code",
   "execution_count": 3,
   "id": "0bb5aa03",
   "metadata": {},
   "outputs": [
    {
     "name": "stdout",
     "output_type": "stream",
     "text": [
      "DatasetDict({\n",
      "    train: Dataset({\n",
      "        features: ['label', 'text'],\n",
      "        num_rows: 650000\n",
      "    })\n",
      "    test: Dataset({\n",
      "        features: ['label', 'text'],\n",
      "        num_rows: 50000\n",
      "    })\n",
      "})\n"
     ]
    }
   ],
   "source": [
    "print(yelp_df)"
   ]
  },
  {
   "cell_type": "code",
   "execution_count": 4,
   "id": "5cf5d4a1",
   "metadata": {},
   "outputs": [
    {
     "name": "stdout",
     "output_type": "stream",
     "text": [
      "<class 'datasets.dataset_dict.DatasetDict'>\n"
     ]
    }
   ],
   "source": [
    "print(type(yelp_df))"
   ]
  },
  {
   "cell_type": "code",
   "execution_count": 5,
   "id": "5bf33858",
   "metadata": {},
   "outputs": [
    {
     "name": "stdout",
     "output_type": "stream",
     "text": [
      "Dataset({\n",
      "    features: ['label', 'text'],\n",
      "    num_rows: 650000\n",
      "})\n"
     ]
    }
   ],
   "source": [
    "print(yelp_df[\"train\"])"
   ]
  },
  {
   "cell_type": "code",
   "execution_count": 6,
   "id": "6472e5c9",
   "metadata": {},
   "outputs": [
    {
     "name": "stdout",
     "output_type": "stream",
     "text": [
      "<class 'datasets.arrow_dataset.Dataset'>\n"
     ]
    }
   ],
   "source": [
    "print(type(yelp_df[\"train\"]))"
   ]
  },
  {
   "cell_type": "code",
   "execution_count": 7,
   "id": "da3323e7",
   "metadata": {},
   "outputs": [
    {
     "name": "stdout",
     "output_type": "stream",
     "text": [
      "{'label': 4, 'text': \"dr. goldberg offers everything i look for in a general practitioner.  he's nice and easy to talk to without being patronizing; he's always on time in seeing his patients; he's affiliated with a top-notch hospital (nyu) which my parents have explained to me is very important in case something happens and you need surgery; and you can get referrals to see specialists without having to see him first.  really, what more do you need?  i'm sitting here trying to think of any complaints i have about him, but i'm really drawing a blank.\"}\n"
     ]
    }
   ],
   "source": [
    "print(yelp_df[\"train\"][0])"
   ]
  },
  {
   "cell_type": "code",
   "execution_count": 8,
   "id": "a244c245",
   "metadata": {},
   "outputs": [
    {
     "name": "stdout",
     "output_type": "stream",
     "text": [
      "{'train': 2, 'test': 2} {'train': 650000, 'test': 50000}\n"
     ]
    }
   ],
   "source": [
    "print(yelp_df.num_columns, yelp_df.num_rows)"
   ]
  },
  {
   "cell_type": "code",
   "execution_count": 9,
   "id": "3d9cd574",
   "metadata": {},
   "outputs": [
    {
     "name": "stdout",
     "output_type": "stream",
     "text": [
      "{'train': (650000, 2), 'test': (50000, 2)}\n"
     ]
    }
   ],
   "source": [
    "print(yelp_df.shape)"
   ]
  },
  {
   "cell_type": "code",
   "execution_count": 10,
   "id": "041e9172",
   "metadata": {},
   "outputs": [
    {
     "name": "stdout",
     "output_type": "stream",
     "text": [
      "{'train': [4, 1, 3, 0, 2], 'test': [0, 2, 1, 3, 4]}\n"
     ]
    }
   ],
   "source": [
    "print(yelp_df.unique(\"label\"))"
   ]
  },
  {
   "attachments": {},
   "cell_type": "markdown",
   "id": "1adbaf86",
   "metadata": {},
   "source": [
    "**Transforming to other formats**"
   ]
  },
  {
   "cell_type": "code",
   "execution_count": 11,
   "id": "9c2fc9d6",
   "metadata": {},
   "outputs": [],
   "source": [
    "yelp_df.set_format(type=\"pandas\")"
   ]
  },
  {
   "cell_type": "code",
   "execution_count": 12,
   "id": "6ba6533f",
   "metadata": {},
   "outputs": [
    {
     "name": "stdout",
     "output_type": "stream",
     "text": [
      "Dataset({\n",
      "    features: ['label', 'text'],\n",
      "    num_rows: 650000\n",
      "})\n"
     ]
    }
   ],
   "source": [
    "print(yelp_df[\"train\"])"
   ]
  },
  {
   "cell_type": "code",
   "execution_count": 13,
   "id": "b9e1a4d5",
   "metadata": {},
   "outputs": [
    {
     "name": "stdout",
     "output_type": "stream",
     "text": [
      "<class 'pandas.core.frame.DataFrame'>\n"
     ]
    }
   ],
   "source": [
    "print(type(yelp_df[\"test\"][:]))"
   ]
  },
  {
   "cell_type": "code",
   "execution_count": 14,
   "id": "37161a8d",
   "metadata": {},
   "outputs": [
    {
     "name": "stderr",
     "output_type": "stream",
     "text": [
      "No model was supplied, defaulted to distilbert-base-uncased-finetuned-sst-2-english and revision af0f99b (https://huggingface.co/distilbert-base-uncased-finetuned-sst-2-english).\n",
      "Using a pipeline without specifying a model name and revision in production is not recommended.\n",
      "Truncation was not explicitly activated but `max_length` is provided a specific value, please use `truncation=True` to explicitly truncate examples to max length. Defaulting to 'longest_first' truncation strategy. If you encode pairs of sequences (GLUE-style) with the tokenizer you can select this strategy more precisely by providing a specific strategy to `truncation`.\n"
     ]
    }
   ],
   "source": [
    "classifier = pipeline(task=\"text-classification\", max_length=512)\n",
    "sentiments = classifier(yelp_df[\"test\"][\"text\"][0])"
   ]
  },
  {
   "cell_type": "code",
   "execution_count": 15,
   "id": "f2b30fc7",
   "metadata": {},
   "outputs": [
    {
     "data": {
      "text/html": [
       "<div>\n",
       "<style scoped>\n",
       "    .dataframe tbody tr th:only-of-type {\n",
       "        vertical-align: middle;\n",
       "    }\n",
       "\n",
       "    .dataframe tbody tr th {\n",
       "        vertical-align: top;\n",
       "    }\n",
       "\n",
       "    .dataframe thead th {\n",
       "        text-align: right;\n",
       "    }\n",
       "</style>\n",
       "<table border=\"1\" class=\"dataframe\">\n",
       "  <thead>\n",
       "    <tr style=\"text-align: right;\">\n",
       "      <th></th>\n",
       "      <th>label</th>\n",
       "      <th>score</th>\n",
       "    </tr>\n",
       "  </thead>\n",
       "  <tbody>\n",
       "    <tr>\n",
       "      <th>0</th>\n",
       "      <td>NEGATIVE</td>\n",
       "      <td>0.998094</td>\n",
       "    </tr>\n",
       "  </tbody>\n",
       "</table>\n",
       "</div>"
      ],
      "text/plain": [
       "      label     score\n",
       "0  NEGATIVE  0.998094"
      ]
     },
     "execution_count": 15,
     "metadata": {},
     "output_type": "execute_result"
    }
   ],
   "source": [
    "pd.DataFrame(sentiments)"
   ]
  },
  {
   "cell_type": "code",
   "execution_count": 16,
   "id": "e31b4d38",
   "metadata": {},
   "outputs": [
    {
     "data": {
      "text/html": [
       "<div>\n",
       "<style scoped>\n",
       "    .dataframe tbody tr th:only-of-type {\n",
       "        vertical-align: middle;\n",
       "    }\n",
       "\n",
       "    .dataframe tbody tr th {\n",
       "        vertical-align: top;\n",
       "    }\n",
       "\n",
       "    .dataframe thead th {\n",
       "        text-align: right;\n",
       "    }\n",
       "</style>\n",
       "<table border=\"1\" class=\"dataframe\">\n",
       "  <thead>\n",
       "    <tr style=\"text-align: right;\">\n",
       "      <th></th>\n",
       "      <th>label</th>\n",
       "      <th>text</th>\n",
       "    </tr>\n",
       "  </thead>\n",
       "  <tbody>\n",
       "    <tr>\n",
       "      <th>0</th>\n",
       "      <td>0</td>\n",
       "      <td>I got 'new' tires from them and within two wee...</td>\n",
       "    </tr>\n",
       "    <tr>\n",
       "      <th>1</th>\n",
       "      <td>0</td>\n",
       "      <td>Don't waste your time.  We had two different p...</td>\n",
       "    </tr>\n",
       "    <tr>\n",
       "      <th>2</th>\n",
       "      <td>0</td>\n",
       "      <td>All I can say is the worst! We were the only 2...</td>\n",
       "    </tr>\n",
       "    <tr>\n",
       "      <th>3</th>\n",
       "      <td>0</td>\n",
       "      <td>I have been to this restaurant twice and was d...</td>\n",
       "    </tr>\n",
       "    <tr>\n",
       "      <th>4</th>\n",
       "      <td>0</td>\n",
       "      <td>Food was NOT GOOD at all! My husband &amp; I ate h...</td>\n",
       "    </tr>\n",
       "    <tr>\n",
       "      <th>5</th>\n",
       "      <td>2</td>\n",
       "      <td>This is a tiny Starbucks and it locations like...</td>\n",
       "    </tr>\n",
       "    <tr>\n",
       "      <th>6</th>\n",
       "      <td>1</td>\n",
       "      <td>Typical Starbucks coffee chain. 2 things I don...</td>\n",
       "    </tr>\n",
       "    <tr>\n",
       "      <th>7</th>\n",
       "      <td>3</td>\n",
       "      <td>So.Much.Fun! \\n\\nI WISH I could play a song at...</td>\n",
       "    </tr>\n",
       "    <tr>\n",
       "      <th>8</th>\n",
       "      <td>3</td>\n",
       "      <td>My friend is a piano teacher, so I took it as ...</td>\n",
       "    </tr>\n",
       "    <tr>\n",
       "      <th>9</th>\n",
       "      <td>2</td>\n",
       "      <td>Stopped by on a Mon evening after trying to di...</td>\n",
       "    </tr>\n",
       "  </tbody>\n",
       "</table>\n",
       "</div>"
      ],
      "text/plain": [
       "   label                                               text\n",
       "0      0  I got 'new' tires from them and within two wee...\n",
       "1      0  Don't waste your time.  We had two different p...\n",
       "2      0  All I can say is the worst! We were the only 2...\n",
       "3      0  I have been to this restaurant twice and was d...\n",
       "4      0  Food was NOT GOOD at all! My husband & I ate h...\n",
       "5      2  This is a tiny Starbucks and it locations like...\n",
       "6      1  Typical Starbucks coffee chain. 2 things I don...\n",
       "7      3  So.Much.Fun! \\n\\nI WISH I could play a song at...\n",
       "8      3  My friend is a piano teacher, so I took it as ...\n",
       "9      2  Stopped by on a Mon evening after trying to di..."
      ]
     },
     "execution_count": 16,
     "metadata": {},
     "output_type": "execute_result"
    }
   ],
   "source": [
    "train_df = yelp_df[\"test\"][:10]\n",
    "train_df"
   ]
  },
  {
   "cell_type": "code",
   "execution_count": 17,
   "id": "d9d38980",
   "metadata": {},
   "outputs": [
    {
     "name": "stdout",
     "output_type": "stream",
     "text": [
      "0    I got 'new' tires from them and within two wee...\n",
      "1    Don't waste your time.  We had two different p...\n",
      "2    All I can say is the worst! We were the only 2...\n",
      "3    I have been to this restaurant twice and was d...\n",
      "4    Food was NOT GOOD at all! My husband & I ate h...\n",
      "5    This is a tiny Starbucks and it locations like...\n",
      "6    Typical Starbucks coffee chain. 2 things I don...\n",
      "7    So.Much.Fun! \\n\\nI WISH I could play a song at...\n",
      "8    My friend is a piano teacher, so I took it as ...\n",
      "9    Stopped by on a Mon evening after trying to di...\n",
      "Name: text, dtype: object\n"
     ]
    }
   ],
   "source": [
    "print(train_df[\"text\"])"
   ]
  },
  {
   "cell_type": "code",
   "execution_count": 18,
   "id": "00f805d0",
   "metadata": {},
   "outputs": [],
   "source": [
    "def sentiment_classification(text):\n",
    "    outputs = classifier(text)\n",
    "    label = outputs[0][\"label\"]\n",
    "    return label\n",
    "\n",
    "\n",
    "train_df[\"sentiment\"] = train_df[\"text\"].map(sentiment_classification)"
   ]
  },
  {
   "cell_type": "code",
   "execution_count": 19,
   "id": "e4caca5f",
   "metadata": {},
   "outputs": [
    {
     "data": {
      "text/html": [
       "<div>\n",
       "<style scoped>\n",
       "    .dataframe tbody tr th:only-of-type {\n",
       "        vertical-align: middle;\n",
       "    }\n",
       "\n",
       "    .dataframe tbody tr th {\n",
       "        vertical-align: top;\n",
       "    }\n",
       "\n",
       "    .dataframe thead th {\n",
       "        text-align: right;\n",
       "    }\n",
       "</style>\n",
       "<table border=\"1\" class=\"dataframe\">\n",
       "  <thead>\n",
       "    <tr style=\"text-align: right;\">\n",
       "      <th></th>\n",
       "      <th>label</th>\n",
       "      <th>text</th>\n",
       "      <th>sentiment</th>\n",
       "    </tr>\n",
       "  </thead>\n",
       "  <tbody>\n",
       "    <tr>\n",
       "      <th>0</th>\n",
       "      <td>0</td>\n",
       "      <td>I got 'new' tires from them and within two wee...</td>\n",
       "      <td>NEGATIVE</td>\n",
       "    </tr>\n",
       "    <tr>\n",
       "      <th>1</th>\n",
       "      <td>0</td>\n",
       "      <td>Don't waste your time.  We had two different p...</td>\n",
       "      <td>NEGATIVE</td>\n",
       "    </tr>\n",
       "    <tr>\n",
       "      <th>2</th>\n",
       "      <td>0</td>\n",
       "      <td>All I can say is the worst! We were the only 2...</td>\n",
       "      <td>NEGATIVE</td>\n",
       "    </tr>\n",
       "    <tr>\n",
       "      <th>3</th>\n",
       "      <td>0</td>\n",
       "      <td>I have been to this restaurant twice and was d...</td>\n",
       "      <td>NEGATIVE</td>\n",
       "    </tr>\n",
       "    <tr>\n",
       "      <th>4</th>\n",
       "      <td>0</td>\n",
       "      <td>Food was NOT GOOD at all! My husband &amp; I ate h...</td>\n",
       "      <td>NEGATIVE</td>\n",
       "    </tr>\n",
       "    <tr>\n",
       "      <th>5</th>\n",
       "      <td>2</td>\n",
       "      <td>This is a tiny Starbucks and it locations like...</td>\n",
       "      <td>POSITIVE</td>\n",
       "    </tr>\n",
       "    <tr>\n",
       "      <th>6</th>\n",
       "      <td>1</td>\n",
       "      <td>Typical Starbucks coffee chain. 2 things I don...</td>\n",
       "      <td>NEGATIVE</td>\n",
       "    </tr>\n",
       "    <tr>\n",
       "      <th>7</th>\n",
       "      <td>3</td>\n",
       "      <td>So.Much.Fun! \\n\\nI WISH I could play a song at...</td>\n",
       "      <td>POSITIVE</td>\n",
       "    </tr>\n",
       "    <tr>\n",
       "      <th>8</th>\n",
       "      <td>3</td>\n",
       "      <td>My friend is a piano teacher, so I took it as ...</td>\n",
       "      <td>POSITIVE</td>\n",
       "    </tr>\n",
       "    <tr>\n",
       "      <th>9</th>\n",
       "      <td>2</td>\n",
       "      <td>Stopped by on a Mon evening after trying to di...</td>\n",
       "      <td>NEGATIVE</td>\n",
       "    </tr>\n",
       "  </tbody>\n",
       "</table>\n",
       "</div>"
      ],
      "text/plain": [
       "   label                                               text sentiment\n",
       "0      0  I got 'new' tires from them and within two wee...  NEGATIVE\n",
       "1      0  Don't waste your time.  We had two different p...  NEGATIVE\n",
       "2      0  All I can say is the worst! We were the only 2...  NEGATIVE\n",
       "3      0  I have been to this restaurant twice and was d...  NEGATIVE\n",
       "4      0  Food was NOT GOOD at all! My husband & I ate h...  NEGATIVE\n",
       "5      2  This is a tiny Starbucks and it locations like...  POSITIVE\n",
       "6      1  Typical Starbucks coffee chain. 2 things I don...  NEGATIVE\n",
       "7      3  So.Much.Fun! \\n\\nI WISH I could play a song at...  POSITIVE\n",
       "8      3  My friend is a piano teacher, so I took it as ...  POSITIVE\n",
       "9      2  Stopped by on a Mon evening after trying to di...  NEGATIVE"
      ]
     },
     "execution_count": 19,
     "metadata": {},
     "output_type": "execute_result"
    }
   ],
   "source": [
    "train_df"
   ]
  },
  {
   "attachments": {},
   "cell_type": "markdown",
   "id": "78ebcb15",
   "metadata": {},
   "source": [
    "**Tokenization**"
   ]
  },
  {
   "cell_type": "code",
   "execution_count": 20,
   "id": "17e06877",
   "metadata": {},
   "outputs": [],
   "source": [
    "model_name = \"bert-base-uncased\"\n",
    "tokenizer = BertTokenizer.from_pretrained(model_name)"
   ]
  },
  {
   "cell_type": "code",
   "execution_count": 21,
   "id": "0930b090",
   "metadata": {},
   "outputs": [
    {
     "name": "stdout",
     "output_type": "stream",
     "text": [
      "This is a tiny Starbucks and it locations like this (although cute) makes you wonder if your really meant to hang out or just grab your coffee and leave. Leaving is always a good idea at this location anyway since you have a nice fountain in the back with benches and it is a central part of the Waterfront Shopping. \\n\\nStarbuck isn't my favorite coffee chain by any means. Is it just me or do all Starbuck coffees taste a little burnt and bitter? No matter how trendy, cool and upscale their establishments are I can't get around the yicky tasting bitterness of Staryucks regular coffees. Talk about over roasting a bean...Maybe something has changed with their regular coffee but I have not drank it in about a year. I am not one for soy caramel latte foofy stuff. Still I'll give the establishment tres estrellas for the fact that their espresso is acceptable and doesn't taste half as bad as the regular coffee bean.\n",
      "[101, 2023, 2003, 1037, 4714, 29500, 1998, 2009, 5269, 2066, 2023, 1006, 2348, 10140, 1007, 3084, 2017, 4687, 2065, 2115, 2428, 3214, 2000, 6865, 2041, 2030, 2074, 6723, 2115, 4157, 1998, 2681, 1012, 2975, 2003, 2467, 1037, 2204, 2801, 2012, 2023, 3295, 4312, 2144, 2017, 2031, 1037, 3835, 9545, 1999, 1996, 2067, 2007, 19571, 1998, 2009, 2003, 1037, 2430, 2112, 1997, 1996, 16317, 6023, 1012, 1032, 1050, 1032, 24978, 7559, 24204, 3475, 1005, 1056, 2026, 5440, 4157, 4677, 2011, 2151, 2965, 1012, 2003, 2009, 2074, 2033, 2030, 2079, 2035, 2732, 24204, 4157, 2015, 5510, 1037, 2210, 11060, 1998, 8618, 1029, 2053, 3043, 2129, 9874, 2100, 1010, 4658, 1998, 28276, 2037, 17228, 2024, 1045, 2064, 1005, 1056, 2131, 2105, 1996, 12316, 17413, 18767, 22364, 1997, 2732, 10513, 10603, 3180, 4157, 2015, 1012, 2831, 2055, 2058, 25043, 2075, 1037, 14068, 1012, 1012, 1012, 2672, 2242, 2038, 2904, 2007, 2037, 3180, 4157, 2021, 1045, 2031, 2025, 10749, 2009, 1999, 2055, 1037, 2095, 1012, 1045, 2572, 2025, 2028, 2005, 25176, 14418, 10199, 2474, 4674, 29379, 12031, 4933, 1012, 2145, 1045, 1005, 2222, 2507, 1996, 5069, 24403, 9765, 21835, 2015, 2005, 1996, 2755, 2008, 2037, 9686, 20110, 2080, 2003, 11701, 1998, 2987, 1005, 1056, 5510, 2431, 2004, 2919, 2004, 1996, 3180, 4157, 14068, 1012, 102]\n",
      "[CLS] this is a tiny starbucks and it locations like this ( although cute ) makes you wonder if your really meant to hang out or just grab your coffee and leave. leaving is always a good idea at this location anyway since you have a nice fountain in the back with benches and it is a central part of the waterfront shopping. \\ n \\ nstarbuck isn't my favorite coffee chain by any means. is it just me or do all starbuck coffees taste a little burnt and bitter? no matter how trendy, cool and upscale their establishments are i can't get around the yicky tasting bitterness of staryucks regular coffees. talk about over roasting a bean... maybe something has changed with their regular coffee but i have not drank it in about a year. i am not one for soy caramel latte foofy stuff. still i'll give the establishment tres estrellas for the fact that their espresso is acceptable and doesn't taste half as bad as the regular coffee bean. [SEP]\n"
     ]
    }
   ],
   "source": [
    "print(train_df[\"text\"][5])\n",
    "print(tokenizer.encode(train_df[\"text\"][5]))\n",
    "example_tokens = tokenizer.encode(\n",
    "    train_df[\"text\"][5], truncation=True, padding=True, add_special_tokens=True\n",
    ")\n",
    "print(tokenizer.decode(example_tokens))"
   ]
  },
  {
   "cell_type": "code",
   "execution_count": 22,
   "id": "eabf1891",
   "metadata": {},
   "outputs": [
    {
     "name": "stdout",
     "output_type": "stream",
     "text": [
      "tensor([[  101,  2023,  2003,  1037,  4714, 29500,  1998,  2009,  5269,  2066,\n",
      "          2023,  1006,  2348, 10140,  1007,  3084,  2017,  4687,  2065,  2115,\n",
      "          2428,  3214,  2000,  6865,  2041,  2030,  2074,  6723,  2115,  4157,\n",
      "          1998,  2681,  1012,  2975,  2003,  2467,  1037,  2204,  2801,  2012,\n",
      "          2023,  3295,  4312,  2144,  2017,  2031,  1037,  3835,  9545,  1999,\n",
      "          1996,  2067,  2007, 19571,  1998,  2009,  2003,  1037,  2430,  2112,\n",
      "          1997,  1996, 16317,  6023,  1012,  1032,  1050,  1032, 24978,  7559,\n",
      "         24204,  3475,  1005,  1056,  2026,  5440,  4157,  4677,  2011,  2151,\n",
      "          2965,  1012,  2003,  2009,  2074,  2033,  2030,  2079,  2035,  2732,\n",
      "         24204,  4157,  2015,  5510,  1037,  2210, 11060,  1998,  8618,  1029,\n",
      "          2053,  3043,  2129,  9874,  2100,  1010,  4658,  1998, 28276,  2037,\n",
      "         17228,  2024,  1045,  2064,  1005,  1056,  2131,  2105,  1996, 12316,\n",
      "         17413, 18767, 22364,  1997,  2732, 10513, 10603,  3180,  4157,  2015,\n",
      "          1012,  2831,  2055,  2058, 25043,  2075,  1037, 14068,  1012,  1012,\n",
      "          1012,  2672,  2242,  2038,  2904,  2007,  2037,  3180,  4157,  2021,\n",
      "          1045,  2031,  2025, 10749,  2009,  1999,  2055,  1037,  2095,  1012,\n",
      "          1045,  2572,  2025,  2028,  2005, 25176, 14418, 10199,  2474,  4674,\n",
      "         29379, 12031,  4933,  1012,  2145,  1045,  1005,  2222,  2507,  1996,\n",
      "          5069, 24403,  9765, 21835,  2015,  2005,  1996,  2755,  2008,  2037,\n",
      "          9686, 20110,  2080,  2003, 11701,  1998,  2987,  1005,  1056,  5510,\n",
      "          2431,  2004,  2919,  2004,  1996,  3180,  4157, 14068,  1012,   102]])\n"
     ]
    }
   ],
   "source": [
    "input_ids = torch.tensor(example_tokens).unsqueeze(0)\n",
    "print(input_ids)"
   ]
  },
  {
   "cell_type": "code",
   "execution_count": 23,
   "id": "6be2d328",
   "metadata": {},
   "outputs": [
    {
     "name": "stderr",
     "output_type": "stream",
     "text": [
      "Some weights of the model checkpoint at bert-base-uncased were not used when initializing BertForSequenceClassification: ['cls.predictions.transform.dense.weight', 'cls.predictions.transform.dense.bias', 'cls.predictions.bias', 'cls.predictions.decoder.weight', 'cls.seq_relationship.weight', 'cls.predictions.transform.LayerNorm.bias', 'cls.predictions.transform.LayerNorm.weight', 'cls.seq_relationship.bias']\n",
      "- This IS expected if you are initializing BertForSequenceClassification from the checkpoint of a model trained on another task or with another architecture (e.g. initializing a BertForSequenceClassification model from a BertForPreTraining model).\n",
      "- This IS NOT expected if you are initializing BertForSequenceClassification from the checkpoint of a model that you expect to be exactly identical (initializing a BertForSequenceClassification model from a BertForSequenceClassification model).\n",
      "Some weights of BertForSequenceClassification were not initialized from the model checkpoint at bert-base-uncased and are newly initialized: ['classifier.bias', 'classifier.weight']\n",
      "You should probably TRAIN this model on a down-stream task to be able to use it for predictions and inference.\n"
     ]
    }
   ],
   "source": [
    "model = BertForSequenceClassification.from_pretrained(model_name, num_labels=5)\n",
    "tokenizer = BertTokenizer.from_pretrained(model_name)"
   ]
  },
  {
   "cell_type": "code",
   "execution_count": 24,
   "id": "f827c2f0",
   "metadata": {},
   "outputs": [
    {
     "name": "stdout",
     "output_type": "stream",
     "text": [
      "[tensor([[  101,  1045,  2288,  1005,  2047,  1005, 13310,  2013,  2068,  1998,\n",
      "          2306,  2048,  3134,  2288,  1037,  4257,  1012,  1045,  2165,  2026,\n",
      "          2482,  2000,  1037,  2334, 15893,  2000,  2156,  2065,  1045,  2071,\n",
      "          2131,  1996,  4920,  8983,  2098,  1010,  2021,  2027,  2056,  1996,\n",
      "          3114,  1045,  2018,  1037,  4257,  2001,  2138,  1996,  3025,  8983,\n",
      "          2018, 10676,  1011,  3524,  1010,  2054,  1029,  1045,  2074,  2288,\n",
      "          1996, 12824,  1998,  2196,  2734,  2000,  2031,  2009,  8983,  2098,\n",
      "          1029,  2023,  2001,  4011,  2000,  2022,  1037,  2047, 12824,  1012,\n",
      "          1032,  9152,  2165,  1996, 12824,  2058,  2000, 13259,  1005,  1055,\n",
      "          1998,  2027,  2409,  2033,  2008,  2619, 26136, 14890,  2094,  2026,\n",
      "         12824,  1010,  2059,  2699,  2000,  8983,  2009,  1012,  2061,  2045,\n",
      "          2024, 24501,  4765,  3993, 12824, 18296,  2545,  1029,  1045,  2424,\n",
      "          2008,  2200,  9832,  1012,  2044,  9177,  2007,  1996,  3124,  1998,\n",
      "          4129,  2032,  2008,  2010,  7961,  2001,  2521, 18584,  2098,  2002,\n",
      "          2056,  2002,  1005,  1040,  2507,  2033,  1037,  2047, 12824,  1032,\n",
      "          1000,  2023,  2051,  1032,  1000,  1012,  1032,  9152,  2097,  2196,\n",
      "          2175,  2067,  2000, 13259,  1005,  1055,  1038,  1013,  1039,  1997,\n",
      "          1996,  2126,  2023,  3124,  5845,  2033,  1998,  1996,  3722,  2755,\n",
      "          2008,  2027,  2435,  2033,  1037,  2109, 12824,   999,   102]]), tensor([[  101,  2123,  1005,  1056,  5949,  2115,  2051,  1012,  2057,  2018,\n",
      "          2048,  2367,  2111,  2272,  2000,  2256,  2160,  2000,  2507,  2149,\n",
      "         10035,  2005,  1037,  5877,  1006,  2028,  1997,  2068,  1996,  3954,\n",
      "          1007,  1012,  2119,  2335,  1010,  2057,  2196,  2657,  2013,  2068,\n",
      "          1012,  2025,  1037,  2655,  1010,  2025,  1996, 10197,  1010,  2498,\n",
      "          1012,   102]]), tensor([[  101,  2035,  1045,  2064,  2360,  2003,  1996,  5409,   999,  2057,\n",
      "          2020,  1996,  2069,  1016,  2111,  1999,  1996,  2173,  2005,  6265,\n",
      "          1010,  1996,  2173,  2001, 12809,  1998,  8209,  2007,  4268, 10899,\n",
      "           999,  1016, 21066,  1010,  1037,  8040, 17206,  2121,  1010,  1998,\n",
      "          2019,  4816,  9019,  4519,  2094,  1996,  7759,  2282,  1012,  1037,\n",
      "          3869,  4951,  2007, 18294,  1010, 11754,  2100, 27556, 25400,  2035,\n",
      "          2058,  2009,  2003,  2045,  2005,  2115, 20195,  1012,  1032,  1050,\n",
      "          1032,  2053,  3126,  2833,  2234,  1012,  1012,  1012,  2053,  2300,\n",
      "          2000,  4392,  1010,  2053,  5572,  1010,  5396,  4860,  2833,  1012,\n",
      "          1997,  2607,  2049,  3147,  1010,  2074,  2066,  1996,  2282,  1010,\n",
      "          1045,  2196,  2165,  2026,  6598,  2125,   999,  1996,  7766,  2024,\n",
      "          2205,  2235,  1010,  2017,  2833, 14437,  2015,  2058,  3031,  2070,\n",
      "          4100,  1011,  4550,  7251,  2004,  2017,  4133,  1999,  2115,  3294,\n",
      "          6247,  2041,  9065,  2835,  1012,  1996, 13017, 27130,  2020,  2041,\n",
      "          1997,  1037,  3482,  1998, 11808,  1010,  1996, 20130,  2001, 14163,\n",
      "          4095,  2100,  1010,  1996, 13017,  5785,  2001,  4408,  3756,  1012,\n",
      "          1032,  1050,  1032, 22064,  2063,  2356,  2005,  2300,  1010,  2027,\n",
      "          2716,  2149,  1015,  1999,  1037,  3948,  2452,  2005,  1016,  2111,\n",
      "          1012,  1045,  2356,  2005,  2980,  5572,  1010,  2027,  2056,  2184,\n",
      "          2781,  1012,  2054,  2822,  4825,  2515,  2025,  2031,  2980,  5572,\n",
      "          2800,  2588,  5227,  1029,  1032,  1050,  1032, 13292,  2121,  2035,\n",
      "          1012,  1012,  1012,  1012,  2026,  2034,  1998,  2197,  3942,  2000,\n",
      "          2023,  2173,  1012,  1996,  2069,  2204,  2391,  2001,  2008,  2009,\n",
      "          2001, 10036,  1010,  1998,  4078, 25164,  2135,  2061,  1012,   102]]), tensor([[  101,  1045,  2031,  2042,  2000,  2023,  4825,  3807,  1998,  2001,\n",
      "          9364,  2119,  2335,  1012,  1045,  2180,  1005,  1056,  2175,  2067,\n",
      "          1012,  1996,  2034,  2051,  2057,  2020,  2045,  2471,  1017,  2847,\n",
      "          1012,  2009,  2165,  5091,  2000,  2344,  1998,  2059,  5091,  2005,\n",
      "          2256,  2833,  2000,  2272,  1998,  1996,  2173,  2001,  4064,  1012,\n",
      "          2043,  1045, 10865,  1996,  3208,  2001,  2200, 12726,  1998,  2699,\n",
      "          2000,  7499,  2149,  2005,  2635,  2000,  2146,  2000,  2344,  1012,\n",
      "          2009,  2081,  2053,  3168,  1010,  2129,  2071,  2057,  2344,  2043,\n",
      "          1996, 13877,  2347,  1005,  1056,  2746,  2000,  1996,  2795,  1029,\n",
      "          2044,  9177,  2007,  2033,  2002,  3092,  2039,  2635,  1002,  1020,\n",
      "          2125,  1997,  2256,  1002,  3263,  1009,  3021,  1012,  9951,  1012,\n",
      "          2065,  2009,  2020,  2039,  2000,  2033,  1045,  2052,  2031,  2196,\n",
      "          2513,  1012,  6854,  2026,  2155,  2787,  2000,  2175,  2182,  2153,\n",
      "          3892,  1012,  2153,  2009,  2165,  1037,  2146,  2051,  2000,  2131,\n",
      "          2256,  2833,  1012,  2026,  2833,  2001,  3147,  1998, 20857,  1010,\n",
      "          2026,  4268,  2833,  2001,  3147,  1012,  2026, 19089, 11840,  2001,\n",
      "         11060,  2000,  1037, 15594,  1998,  2026,  2905,  1999,  2375,  2165,\n",
      "          2028,  6805,  1997,  2014, 13452,  1998,  4188,  2000,  4521,  2151,\n",
      "          2062,  2138,  2016,  4447,  2009,  2001,  2061, 19424,  1012,  1996,\n",
      "          5030, 11350,  1998,  7852,  2020,  2204,  1010,  2021,  2008,  1005,\n",
      "          1055,  2009,   999,  2026,  4392,  2938,  4064,  2802,  2026,  7954,\n",
      "          1998,  2196,  2288, 25416, 10484,  2094,  2130,  2043,  1045,  2356,\n",
      "          1012,  2919,  2833,  1010,  4030,  2326,  1998, 12726, 10489,  1012,\n",
      "          1045,  1005,  2222,  3413,  2006,  2023,  2173,  2065,  2026,  2155,\n",
      "          7288,  2000,  2175,  2153,  1012,  2025,  4276,  2009,  2012,  2035,\n",
      "          2007,  2035,  1996,  2060,  2204,  3059,  7047,  2105,  1012,   102]]), tensor([[  101,  2833,  2001,  2025,  2204,  2012,  2035,   999,  2026,  3129,\n",
      "          1004,  1045,  8823,  2182,  1037,  3232,  3134,  3283,  2005,  1996,\n",
      "          2034,  2051,  1012,  1045,  3641,  1037, 16521,  1004, 14732, 20739,\n",
      "          2080,  6949, 24857,  1004,  2026,  3129,  3641,  1996,  6714,  6776,\n",
      "          1004, 10768,  2696, 24857,  1012,  1996, 16521,  2001,  2074,  1037,\n",
      "          4121,  5127,  1997,  3500,  4666,  1006,  2498,  2842,  1999,  2009,\n",
      "          1007,  2007,  2126,  2000,  2172, 29387, 11225,  1012,  2026,  2292,\n",
      "          8525,  3401,  2001, 14759,  1999,  1996, 29387,  1012,  2026, 20739,\n",
      "          2080, 24857,  2018,  2053, 14894,  1006,  2106,  2025,  5510,  2066,\n",
      "          1037,  6949, 12901,  2000,  2033,  1007,  1004,  1996, 20739,  2080,\n",
      "          2001,  2061,  2448,  4890,  1013, 28259,  1004,  2126,  2205,  2172,\n",
      "         12901,  2025,  2438, 27130,  1012,  2026,  3129,  1005,  1055, 24857,\n",
      "          2018,  2130,  2625, 14894,  2084,  3067,  1012,  2057,  8823,  2055,\n",
      "          1037,  4284,  1997,  1996,  2833,  1004,  2481,  1005,  1056,  2130,\n",
      "          3926,  2009,  1012,  2057,  2165,  2009,  2188,  1004,  2009,  2001,\n",
      "          2061,  2919,  1045,  2134,  1005,  1056,  2130,  4521,  2026,  2187,\n",
      "         24302,  1012,  1998,  1045,  5223, 18313,  2833,   999,   999,  4606,\n",
      "          1996,  7597,  2024,  6450,  2005,  1996,  3815,  1997,  2833,  2017,\n",
      "          2131,  1004,  1997,  2607,  1996,  3532,  3737,  1012,  2123,  1005,\n",
      "          1056,  5949,  2115,  2051,  5983,  2182,  1012,  2045,  2024,  2172,\n",
      "          2488,  3059,  7884,  1999,  6278,  1012,   102]]), tensor([[  101,  2023,  2003,  1037,  4714, 29500,  1998,  2009,  5269,  2066,\n",
      "          2023,  1006,  2348, 10140,  1007,  3084,  2017,  4687,  2065,  2115,\n",
      "          2428,  3214,  2000,  6865,  2041,  2030,  2074,  6723,  2115,  4157,\n",
      "          1998,  2681,  1012,  2975,  2003,  2467,  1037,  2204,  2801,  2012,\n",
      "          2023,  3295,  4312,  2144,  2017,  2031,  1037,  3835,  9545,  1999,\n",
      "          1996,  2067,  2007, 19571,  1998,  2009,  2003,  1037,  2430,  2112,\n",
      "          1997,  1996, 16317,  6023,  1012,  1032,  1050,  1032, 24978,  7559,\n",
      "         24204,  3475,  1005,  1056,  2026,  5440,  4157,  4677,  2011,  2151,\n",
      "          2965,  1012,  2003,  2009,  2074,  2033,  2030,  2079,  2035,  2732,\n",
      "         24204,  4157,  2015,  5510,  1037,  2210, 11060,  1998,  8618,  1029,\n",
      "          2053,  3043,  2129,  9874,  2100,  1010,  4658,  1998, 28276,  2037,\n",
      "         17228,  2024,  1045,  2064,  1005,  1056,  2131,  2105,  1996, 12316,\n",
      "         17413, 18767, 22364,  1997,  2732, 10513, 10603,  3180,  4157,  2015,\n",
      "          1012,  2831,  2055,  2058, 25043,  2075,  1037, 14068,  1012,  1012,\n",
      "          1012,  2672,  2242,  2038,  2904,  2007,  2037,  3180,  4157,  2021,\n",
      "          1045,  2031,  2025, 10749,  2009,  1999,  2055,  1037,  2095,  1012,\n",
      "          1045,  2572,  2025,  2028,  2005, 25176, 14418, 10199,  2474,  4674,\n",
      "         29379, 12031,  4933,  1012,  2145,  1045,  1005,  2222,  2507,  1996,\n",
      "          5069, 24403,  9765, 21835,  2015,  2005,  1996,  2755,  2008,  2037,\n",
      "          9686, 20110,  2080,  2003, 11701,  1998,  2987,  1005,  1056,  5510,\n",
      "          2431,  2004,  2919,  2004,  1996,  3180,  4157, 14068,  1012,   102]]), tensor([[  101,  5171, 29500,  4157,  4677,  1012,  1016,  2477,  1045,  2123,\n",
      "          2102,  2066,  2055,  2023, 29500,  1024,  1032,  1050,  1032,  1050,\n",
      "          2487,  1012,  4921,  2063,  2042,  2045,  3807,  1998,  2119,  2335,\n",
      "          1996,  2173,  2038,  2042,  6530,  1010,  4102,  2000,  1996,  2060,\n",
      "         29500,  1045,  2031,  2042,  1999,  1012,  1032,  1050,  1032,  1050,\n",
      "          2475,  1012,  2065,  2017,  2031,  2000,  2224,  1996,  5723,  1010,\n",
      "          2027,  2507,  2017,  1037,  3145,  2008,  2015,  4987,  2000,  2023,\n",
      "         11808,  5835,  1012, 10047,  3492,  2469,  2027,  2123,  2102,  4550,\n",
      "          2008,  5835,  2044,  2296,  2224,  2030,  2130, 22390,  1012,  1032,\n",
      "          1050,  1032, 17235,  5178,  2013,  2008,  1010,  2204,  4157,  1998,\n",
      "          3435,  1013,  5379,  2326,  1012,   102]]), tensor([[  101,  2061,  1012,  2172,  1012,  4569,   999,  1032,  1050,  1032,\n",
      "          9152,  4299,  1045,  2071,  2377,  1037,  2299,  2012,  1996,  4530,\n",
      "          1997,  1037,  6045,  1012,  2205,  2919,  1045,  2196,  2165,  3682,\n",
      "          8220,  1998,  1045,  1005,  1040,  2763,  2203,  2039, 12954,  9709,\n",
      "          2431,  1996,  4581,  2060,  2084,  1996,  7165,  1012,  4983,  2009,\n",
      "          1005,  1055,  5474,  1050,  1005, 27233,  2050,  1005,  1055, 26822,\n",
      "          7361,  1012,  1032,  1050,  1032, 23961, 24158,  2003,  1037,  2428,\n",
      "          2307,  2173,  2000,  2175,  2043,  2017,  2031,  2041,  1997,  2237,\n",
      "          6368,  2030,  2024,  2559,  2005,  1037,  4569,  2173,  2000,  2202,\n",
      "          2619,  2005,  1037,  5798,  7401,  2030,  1037,  4569,  2305,  2041,\n",
      "          1012,  2009,  1005,  1055,  2074,  2242,  2367,  2000,  2079,  2060,\n",
      "          2084, 22017,  6774,  2009,  2039,  2012,  1996,  6963,  2006,  1037,\n",
      "          5095,  2305,  1012,  1032,  1050,  1032, 25930,  4402,  2361,  1999,\n",
      "          2568,  2017,  1005,  2222,  2022,  7079,  2105,  1037,  1002,  1019,\n",
      "          1011,  2184,  3104,  4606,  3649,  8974,  1998,  2833,  2017,  2131,\n",
      "          1012,  1996,  2204,  2518,  2003,  1996,  2833,  2003,  2746,  2013,\n",
      "          1996,  4987,  2600,  3953, 12161,  1012,  2061,  1037,  2843,  1997,\n",
      "          2009,  2003,  4825,  3737,  2204,  1012,  4606,  1996, 12161,  5404,\n",
      "          2003,  2941,  3492,  2204,   999,  1997,  2607,  2017,  2097,  2022,\n",
      "          7079,  4825,  3976,  8974,  1012,  1012,  1012,  2061,  1997,  2607,\n",
      "          2027,  1005,  2128,  2039,  5338,  1037,  2978,  1012,  2021,  2017,\n",
      "          2079,  3477,  2005,  1996,  2878,  3325,  1012,  1012,  1012,  1012,\n",
      "          2061,  2017, 10657,  2131,  2046,  1996,  4382,  2007,  2070,  8633,\n",
      "           999,  1032,  1050,  1032, 23961,  5369,  4364,  2040,  2377,  2024,\n",
      "         11757, 10904,  1012,  2045,  1005,  1055,  1016,  4364,  2008,  2097,\n",
      "          2202, 11186,  1998,  2377,  2774,  2006,  1996,  3682,  1012,  2027,\n",
      "          3492,  2172,  2377,  2505,  2017,  3198,  1012,  3824,  2774,  1010,\n",
      "          5466,  2067,  2774,  1010,  2954,  2774,  1010,  9680,  2774,  1010,\n",
      "          3769,  2774,  1012,  2017,  2171,  2009,  1010,  2027,  2377,  2009,\n",
      "          1012,  1032,  1050,  1032, 13221,  2100,  5440,  2112,  2003,  2043,\n",
      "          2027,  6942,  2041,  2000,  2178,  2048,  4364,  1012,  2027,  1005,\n",
      "          2222,  2035,  2176,  2131,  2006,  2754,  1998,  2377,  2048,  3682,\n",
      "          1005,  1055,  1010,  1037,  2858,  1998,  3846,  1012,  2027,  2788,\n",
      "          2600,  2041,  2007,  2070,  4569,  5220,  2774,  1006,  8529,  1010,\n",
      "          4990,  1010,  1997,  2607,   999,  1007,  1012,  1032,  1050,  1032,\n",
      "         23961,  5369,  5798,  2299,  2003,  5667,  1996,  2190,  1012,  2027,\n",
      "          6170,  2000,  2017,  1012,  1012,  1012,  1012,  1998,  2655,  2017,\n",
      "          2070,  3415,  1012,  1012,  1012,  1012,  2007,  4654, 10814,  6024,\n",
      "          2015,  1012,  2021,  1999,  1037,  6135,  3835,  2126,  1997,  2607,\n",
      "          1012,  2017,  2074,  2031,  2000,  2175,   999,   102]]), tensor([[  101,  2026,  2767,  2003,  1037,  3682,  3836,  1010,  2061,  1045,\n",
      "          2165,  2009,  2004,  1037,  2204,  3696,  2008,  6170,  6170,  2052,\n",
      "          2022,  3737,  4933,  1012,  2009,  2001,  2014,  5798,  1010,  1998,\n",
      "          1045,  2134,  1005,  1056,  2428,  2113,  2505,  2055, 14216,  2075,\n",
      "          3682,  6963,  1012,  1045,  2001, 27263, 16037, 19504,  2304,  2882,\n",
      "         27864,  2007, 20332,  3964,  1010,  9066,  2015,  1999,  2304, 17764,\n",
      "          1998,  6121,  7877,  2440,  1997,  2417,  4511,  1012,  1045,  2572,\n",
      "          2428,  1010,  2428,  5580,  1045,  2001,  3308,  1012,  1032,  1050,\n",
      "          1032,  9152,  2102,  2001, 24842,  3723,  1010,  8670, 21724,  2100,\n",
      "          1998, 21864, 17340,  5054, 20925,  2135,  6278,  1012,  2034,  2125,\n",
      "          1010,  1996, 27864,  2024,  8040, 16093, 25031,  2000,  3109,  1010,\n",
      "          6195,  1996,  2193,  1997, 10247,  2100,  2111,  2040,  4133,  2006,\n",
      "          2068, 22390,  2096,  2108, 19499, 26608,  1012,  1996,  5389,  8691,\n",
      "          2185,  2012,  2068,  1010,  1998,  2027,  1005,  2128,  3139,  2007,\n",
      "          1050,  1030,  1998,  6170,  6170,  6293,  2545,  1012,  2009,  1005,\n",
      "          1055,  5793,  2027,  1005,  2310,  2042,  2092,  1011,  3866,  1012,\n",
      "          1996,  2189,  2003,  2505,  2021,  1996,  7764,  2189,  1045,  2001,\n",
      "         27263, 16037,  1025,  2009,  1005,  1055,  2600,  1010,  5099,  1011,\n",
      "          6154,  1010, 26826,  1010,  3769,  1010,  1998,  2074,  2055,  2151,\n",
      "          6907, 10047, 22974, 22966,  4283,  2000,  1996,  5227,  2291,  1006,\n",
      "          4604,  2039,  1037,  3538,  1997,  3259,  2007,  2070,  2769,  1007,\n",
      "          1998,  1996,  6429, 13646,  1997,  1996,  5389,  1012,  2005,  6013,\n",
      "          1010,  1032,  1000,  8903,  9457,  2100,  1032,  1000,  1998,  1032,\n",
      "          1000, 18542,  2696,  1005,  1055,  9097,  1032,  1000,  2020,  2119,\n",
      "          2956,  2043,  1045,  2001,  2045,  1010,  1998,  2119,  2864, 17727,\n",
      "          8586,  3540,  6321,  1012,  2027,  2036,  8686,  1037,  5227,  2005,\n",
      "          1037,  4202,  9170,  2299,  2069,  2000,  4374,  1002,  2382,  1998,\n",
      "          1037,  5227,  2005,  1032,  1000,  2505,  2842,  1010,  1032,  1000,\n",
      "          2029,  2027, 13364,  2628,  1012,  1996,  5389,  2036,  2079,  6057,\n",
      "          4617,  1997,  2759,  2774,  1010,  1998,  5466,  1999,  2477,  2066,\n",
      "          1032,  1000, 18208,  2480,  1032,  1000,  2612,  1997,  1032,  1000,\n",
      "          2017,  1012,  1032,  1000,  1032,  1050,  1032,  9152,  2387,  1999,\n",
      "         15180,  1997,  1996,  9567,  2005,  1037, 11519,  4664,  1997,  1996,\n",
      "          2305,  1012,  2009,  2442,  2202,  1037,  3391,  2569,  2828,  1997,\n",
      "          2711,  2000,  2404,  2006,  1037,  2265,  2066,  2023,  1010,  6195,\n",
      "          1996,  2943,  1010,  7023,  1010, 15966,  1010, 26452,  1010,  7782,\n",
      "          2791,  1010,  9033, 21202,  7971,  1010, 12266,  2791,  1010,  1998,\n",
      "         11591,  5848,  1037,  3105,  2066,  2023,  5942,  1012,  2027, 24357,\n",
      "          9567,  1999,  1998,  2041,  2061,  2045,  1005,  1055,  2025,  2130,\n",
      "          2019,  6970, 25481,  1012,  1045,  1005,  2310,  3191,  7928,  2055,\n",
      "          1996,  2918,  2791,  1997,  1996,  8562,  1010,  2021,  1045,  2018,\n",
      "          2053,  4797,  1996,  4364,  2039,  2006,  2754,  2020,  9414, 12043,\n",
      "          2015,  1012,  2027,  2018,  2307, 12857,  1024,  2028,  2001,  2055,\n",
      "          8574,  7038,  1010,  5048,  2100,  1010,  1998,  4248,  1011, 15966,\n",
      "          3064,  1012,  2002,  6051,  2041,  2296,  4368,  1999,  1996,  3467,\n",
      "          3783,  1010,  1998,  2001,  3492,  2046,  2023,  3938,  1011,  2242,\n",
      "          1011,  2095,  1011,  2214,  3203,  1999,  1996,  4378,  2170,  7437,\n",
      "          1012,  1996,  2060,  2018,  4689,  2606,  1998,  4408,  2630,  8057,\n",
      "          2015,  1010,  3786,  8758,  2098,  2004,  2092,  2004,  2002,  6369,\n",
      "          1010,  1998,  2081,  2009,  2391,  2000,  2377,  1037,  9210,  1997,\n",
      "          2774,  2005,  2026,  2767,  1005,  1055,  5798,  1012,  1032,  1000,\n",
      "          1045,   102]]), tensor([[  101,  3030,  2011,  2006,  1037, 12256,  3944,  2044,  2667,  2000,\n",
      "         11586,  2063,  2012,  5610, 11937,  4226,  4360,  2029,  2003,  2701,\n",
      "         28401,  1012,  5581,  2006,  2395,  1999,  2392,  2030,  2369,  2125,\n",
      "         10974,  2358,  1012,  3565,  5379, 15812,  1012,  1999, 16676,  2706,\n",
      "          2027,  2031,  4121,  7254,  2181,  1004,  2502,  3898,  1004,  8721,\n",
      "          9781, 11484,  2208,  2181,  1012,  3100,  4433,  5404,  4989,  1998,\n",
      "          2502,  5835,  4989,  1012,  2699,  1996,  3059,  2252,  2029,  2001,\n",
      "          2428,  2204,  1011,  2048,  1997,  2149,  3975,  2028,  1012,  2036,\n",
      "          2699,  4086, 14557, 22201,  1011, 29350,  2204,   999,  2188,  2081,\n",
      "         11772,  1059,  1038,  2571,  2226,  2020,  2058, 27267,  2011, 12901,\n",
      "          1012,  5723,  2001,  1999,  2342,  1997, 15673,  1998,  2813, 10315,\n",
      "          1004,  2001, 17500,  2041,  2011, 11848,  8248,  1013,  9111,  2006,\n",
      "          1037, 11142,  2379, 11848,  2012,  3239,  2504,  1012,  6655,  2009,\n",
      "          1005,  1055,  1037,  4569,  2173,  1999, 16676,  2706,  1012,   102]])]\n"
     ]
    }
   ],
   "source": [
    "train_tokens = [\n",
    "    tokenizer.encode(text, add_special_tokens=True, max_length=512, truncation=True)\n",
    "    for text in train_df[\"text\"]\n",
    "]\n",
    "ids = [torch.tensor(tokens).unsqueeze(0) for tokens in train_tokens]\n",
    "print(ids)"
   ]
  },
  {
   "cell_type": "code",
   "execution_count": 25,
   "id": "bfc4bb29",
   "metadata": {},
   "outputs": [
    {
     "data": {
      "text/html": [
       "<div>\n",
       "<style scoped>\n",
       "    .dataframe tbody tr th:only-of-type {\n",
       "        vertical-align: middle;\n",
       "    }\n",
       "\n",
       "    .dataframe tbody tr th {\n",
       "        vertical-align: top;\n",
       "    }\n",
       "\n",
       "    .dataframe thead th {\n",
       "        text-align: right;\n",
       "    }\n",
       "</style>\n",
       "<table border=\"1\" class=\"dataframe\">\n",
       "  <thead>\n",
       "    <tr style=\"text-align: right;\">\n",
       "      <th></th>\n",
       "      <th>label</th>\n",
       "      <th>text</th>\n",
       "      <th>sentiment</th>\n",
       "      <th>new_label</th>\n",
       "    </tr>\n",
       "  </thead>\n",
       "  <tbody>\n",
       "    <tr>\n",
       "      <th>0</th>\n",
       "      <td>0</td>\n",
       "      <td>I got 'new' tires from them and within two wee...</td>\n",
       "      <td>NEGATIVE</td>\n",
       "      <td>3</td>\n",
       "    </tr>\n",
       "    <tr>\n",
       "      <th>1</th>\n",
       "      <td>0</td>\n",
       "      <td>Don't waste your time.  We had two different p...</td>\n",
       "      <td>NEGATIVE</td>\n",
       "      <td>3</td>\n",
       "    </tr>\n",
       "    <tr>\n",
       "      <th>2</th>\n",
       "      <td>0</td>\n",
       "      <td>All I can say is the worst! We were the only 2...</td>\n",
       "      <td>NEGATIVE</td>\n",
       "      <td>3</td>\n",
       "    </tr>\n",
       "    <tr>\n",
       "      <th>3</th>\n",
       "      <td>0</td>\n",
       "      <td>I have been to this restaurant twice and was d...</td>\n",
       "      <td>NEGATIVE</td>\n",
       "      <td>2</td>\n",
       "    </tr>\n",
       "    <tr>\n",
       "      <th>4</th>\n",
       "      <td>0</td>\n",
       "      <td>Food was NOT GOOD at all! My husband &amp; I ate h...</td>\n",
       "      <td>NEGATIVE</td>\n",
       "      <td>3</td>\n",
       "    </tr>\n",
       "    <tr>\n",
       "      <th>5</th>\n",
       "      <td>2</td>\n",
       "      <td>This is a tiny Starbucks and it locations like...</td>\n",
       "      <td>POSITIVE</td>\n",
       "      <td>2</td>\n",
       "    </tr>\n",
       "    <tr>\n",
       "      <th>6</th>\n",
       "      <td>1</td>\n",
       "      <td>Typical Starbucks coffee chain. 2 things I don...</td>\n",
       "      <td>NEGATIVE</td>\n",
       "      <td>1</td>\n",
       "    </tr>\n",
       "    <tr>\n",
       "      <th>7</th>\n",
       "      <td>3</td>\n",
       "      <td>So.Much.Fun! \\n\\nI WISH I could play a song at...</td>\n",
       "      <td>POSITIVE</td>\n",
       "      <td>3</td>\n",
       "    </tr>\n",
       "    <tr>\n",
       "      <th>8</th>\n",
       "      <td>3</td>\n",
       "      <td>My friend is a piano teacher, so I took it as ...</td>\n",
       "      <td>POSITIVE</td>\n",
       "      <td>3</td>\n",
       "    </tr>\n",
       "    <tr>\n",
       "      <th>9</th>\n",
       "      <td>2</td>\n",
       "      <td>Stopped by on a Mon evening after trying to di...</td>\n",
       "      <td>NEGATIVE</td>\n",
       "      <td>2</td>\n",
       "    </tr>\n",
       "  </tbody>\n",
       "</table>\n",
       "</div>"
      ],
      "text/plain": [
       "   label                                               text sentiment  \\\n",
       "0      0  I got 'new' tires from them and within two wee...  NEGATIVE   \n",
       "1      0  Don't waste your time.  We had two different p...  NEGATIVE   \n",
       "2      0  All I can say is the worst! We were the only 2...  NEGATIVE   \n",
       "3      0  I have been to this restaurant twice and was d...  NEGATIVE   \n",
       "4      0  Food was NOT GOOD at all! My husband & I ate h...  NEGATIVE   \n",
       "5      2  This is a tiny Starbucks and it locations like...  POSITIVE   \n",
       "6      1  Typical Starbucks coffee chain. 2 things I don...  NEGATIVE   \n",
       "7      3  So.Much.Fun! \\n\\nI WISH I could play a song at...  POSITIVE   \n",
       "8      3  My friend is a piano teacher, so I took it as ...  POSITIVE   \n",
       "9      2  Stopped by on a Mon evening after trying to di...  NEGATIVE   \n",
       "\n",
       "   new_label  \n",
       "0          3  \n",
       "1          3  \n",
       "2          3  \n",
       "3          2  \n",
       "4          3  \n",
       "5          2  \n",
       "6          1  \n",
       "7          3  \n",
       "8          3  \n",
       "9          2  "
      ]
     },
     "execution_count": 25,
     "metadata": {},
     "output_type": "execute_result"
    }
   ],
   "source": [
    "outputs = [model(input_ids=id) for id in ids]\n",
    "predicted_labels = [torch.argmax(output.logits, dim=1) for output in outputs]\n",
    "token_labels = [predicted_label[0].tolist() for predicted_label in predicted_labels]\n",
    "train_df[\"new_label\"] = pd.Series(token_labels)\n",
    "train_df"
   ]
  }
 ],
 "metadata": {
  "kernelspec": {
   "display_name": "base",
   "language": "python",
   "name": "python3"
  },
  "language_info": {
   "codemirror_mode": {
    "name": "ipython",
    "version": 3
   },
   "file_extension": ".py",
   "mimetype": "text/x-python",
   "name": "python",
   "nbconvert_exporter": "python",
   "pygments_lexer": "ipython3",
   "version": "3.9.12"
  }
 },
 "nbformat": 4,
 "nbformat_minor": 5
}
